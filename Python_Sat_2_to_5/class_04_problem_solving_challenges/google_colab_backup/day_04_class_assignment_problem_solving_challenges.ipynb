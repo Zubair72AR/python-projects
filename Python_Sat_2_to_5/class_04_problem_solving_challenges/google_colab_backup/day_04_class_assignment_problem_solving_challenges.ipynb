{
  "nbformat": 4,
  "nbformat_minor": 0,
  "metadata": {
    "colab": {
      "provenance": []
    },
    "kernelspec": {
      "name": "python3",
      "display_name": "Python 3"
    },
    "language_info": {
      "name": "python"
    }
  },
  "cells": [
    {
      "cell_type": "markdown",
      "source": [
        "# **Problem 1️⃣ - Reverse a String**"
      ],
      "metadata": {
        "id": "S8-aeXbhXluL"
      }
    },
    {
      "cell_type": "markdown",
      "source": [
        "## ✅ Using Slicing Feature (as Suggested)"
      ],
      "metadata": {
        "id": "l5uz8hfhDsKW"
      }
    },
    {
      "cell_type": "code",
      "source": [
        "def slicing_reverse(value):\n",
        "    # Slicing Value [start:end:step]\n",
        "    return value[::-1]\n",
        "\n",
        "\n",
        "# Get User Input\n",
        "user_input = input(\"Please enter your value: \")\n",
        "# Print & Call Function with Given User Input\n",
        "print(slicing_reverse(user_input))"
      ],
      "metadata": {
        "colab": {
          "base_uri": "https://localhost:8080/"
        },
        "id": "fCGAHUh9DvBg",
        "outputId": "670e0e6d-2ad9-4ed1-ea01-97ac121f8c1a"
      },
      "execution_count": 9,
      "outputs": [
        {
          "output_type": "stream",
          "name": "stdout",
          "text": [
            "Please enter your value: hello\n",
            "olleh\n"
          ]
        }
      ]
    },
    {
      "cell_type": "markdown",
      "source": [
        "## ✅ Using For Loop"
      ],
      "metadata": {
        "id": "3mLTmxQ7GpuV"
      }
    },
    {
      "cell_type": "code",
      "source": [
        "def for_loop_reverse(value):\n",
        "    # Variable for Storing Words\n",
        "    reversed_word = \"\"\n",
        "    for word in value:\n",
        "        # Store each Word of Value + Updated Variable of \"reversed_word\"\n",
        "        reversed_word = word + reversed_word\n",
        "    return reversed_word\n",
        "\n",
        "\n",
        "# Get User Input\n",
        "user_input = input(\"Please enter your value: \")\n",
        "# Print & Call Function with Given User Input\n",
        "print(for_loop_reverse(user_input))"
      ],
      "metadata": {
        "colab": {
          "base_uri": "https://localhost:8080/"
        },
        "id": "LoSv5OBcGwxX",
        "outputId": "fc927c79-31e1-489f-d94f-db50d0330945"
      },
      "execution_count": 10,
      "outputs": [
        {
          "output_type": "stream",
          "name": "stdout",
          "text": [
            "Please enter your value: hello\n",
            "olleh\n"
          ]
        }
      ]
    },
    {
      "cell_type": "markdown",
      "source": [
        "## ✅ Using While Loop"
      ],
      "metadata": {
        "id": "GSTTOjTpJYTY"
      }
    },
    {
      "cell_type": "code",
      "source": [
        "def while_loop_reverse(value):\n",
        "    # Variable for Storing Words\n",
        "    reversed_word = \"\"\n",
        "    # Getting Total Length of Provided Value - 1\n",
        "    index = len(value) - 1\n",
        "\n",
        "    while index >= 0:\n",
        "        # Store Last Word of Value + Updated Variable of \"reversed_word\"\n",
        "        reversed_word += value[index]\n",
        "        # Minus Index for All Word by Loop and Ending Loop Condition\n",
        "        index -= 1\n",
        "    return reversed_word\n",
        "\n",
        "\n",
        "# Get User Input\n",
        "user_input = input(\"Please enter your value: \")\n",
        "# Print & Call Function with Given User Input\n",
        "print(while_loop_reverse(user_input))"
      ],
      "metadata": {
        "colab": {
          "base_uri": "https://localhost:8080/"
        },
        "id": "k49ytrDbJbW8",
        "outputId": "eaf0b482-a46d-42a7-cbef-68a2b35fd497"
      },
      "execution_count": 11,
      "outputs": [
        {
          "output_type": "stream",
          "name": "stdout",
          "text": [
            "Please enter your value: hello\n",
            "olleh\n"
          ]
        }
      ]
    },
    {
      "cell_type": "markdown",
      "source": [
        "## ✅ Using Recursion Function"
      ],
      "metadata": {
        "id": "Vs-1FeMqDFmW"
      }
    },
    {
      "cell_type": "code",
      "execution_count": 12,
      "metadata": {
        "colab": {
          "base_uri": "https://localhost:8080/"
        },
        "id": "F-XQ-5RaWyw0",
        "outputId": "2cf5eac0-82c6-445b-f569-a5c55454ec25"
      },
      "outputs": [
        {
          "output_type": "stream",
          "name": "stdout",
          "text": [
            "Please enter your value: hello\n",
            "olleh\n"
          ]
        }
      ],
      "source": [
        "def recursion_reverse(value):\n",
        "    # if Value length is zero return value\n",
        "    if len(value) == 0:\n",
        "        return value\n",
        "    else:\n",
        "        last_word = value[-1]  # Store Last Word of Provided Value\n",
        "        # Store Rest String Excluding \"Last Word\"\n",
        "        rest_str = value[:-1]\n",
        "        # Keep Adding Last word of Remaining Value\n",
        "        return last_word + recursion_reverse(rest_str)\n",
        "\n",
        "\n",
        "# Get User Input\n",
        "user_input = input(\"Please enter your value: \")\n",
        "# Print & Call Function with Given User Input\n",
        "print(recursion_reverse(user_input))"
      ]
    },
    {
      "cell_type": "markdown",
      "source": [
        "# **Problem 2️⃣ - Count Vowels in a String**"
      ],
      "metadata": {
        "id": "g0tqMhlcKVdO"
      }
    },
    {
      "cell_type": "code",
      "source": [
        "# Convert Number into Emoji 🥰\n",
        "num_emoji_dict = {\"1\": \"1️⃣\", \"2\": \"2️⃣\", \"3\": \"3️⃣\", \"4\": \"4️⃣\",\n",
        "                  \"5\": \"5️⃣\", \"6\": \"6️⃣\", \"7\": \"7️⃣\", \"8\": \"8️⃣\", \"9\": \"9️⃣\", \"0\": \"0️⃣\"}\n",
        "\n",
        "\n",
        "def is_vowels(value):\n",
        "    # Make Dict of Tracing Each Vowels Quantity\n",
        "    vowels_count = {\"a\": 0, \"e\": 0, \"i\": 0, \"o\": 0, \"u\": 0}\n",
        "    # For Loop for Provided Value\n",
        "    for v in value.lower():\n",
        "        # Check Each Word Include Vowels\n",
        "        if v in vowels_count:\n",
        "            # if Find Vowels increase Value by 1\n",
        "            vowels_count[v] += 1\n",
        "\n",
        "    # Get Sum of All Vowels\n",
        "    total = sum(vowels_count.values())\n",
        "    # Result\n",
        "    result = f\"\\nTotal Vowels are : {total} in \\\"{value}\\\"\\n\\n𝐀 = {vowels_count['a']}, 𝐄 = {vowels_count['e']}, 𝐈 = {vowels_count['i']}, 𝐎 = {vowels_count['o']}, 𝐔 = {vowels_count['u']}\"\n",
        "    # Replace Result Digits into Emoji\n",
        "    for key, val in num_emoji_dict.items():\n",
        "        result = result.replace(key, val)\n",
        "    return result\n",
        "\n",
        "\n",
        "# Get User Input\n",
        "user_input = input(\"Please enter your value: \")\n",
        "# Print & Call Function with Given User Input\n",
        "print(is_vowels(user_input))"
      ],
      "metadata": {
        "colab": {
          "base_uri": "https://localhost:8080/"
        },
        "id": "NnLtxQ2ehf7K",
        "outputId": "73e10c65-c646-49a7-d685-579d901ba9b2"
      },
      "execution_count": 32,
      "outputs": [
        {
          "output_type": "stream",
          "name": "stdout",
          "text": [
            "Please enter your value: An Apple a Day keeps the Doctor away\n",
            "\n",
            "Total Vowels are : 1️⃣2️⃣ in \"An Apple a Day keeps the Doctor away\"\n",
            "\n",
            "𝐀 = 6️⃣, 𝐄 = 4️⃣, 𝐈 = 0️⃣, 𝐎 = 2️⃣, 𝐔 = 0️⃣\n"
          ]
        }
      ]
    },
    {
      "cell_type": "markdown",
      "source": [
        "# **Problem 3️⃣ - Sum of Digits**"
      ],
      "metadata": {
        "id": "kEwBdw92Ko4a"
      }
    },
    {
      "cell_type": "markdown",
      "source": [
        "## ✅ Using Iterate Over Each Digit"
      ],
      "metadata": {
        "id": "nymTwX6nRjjM"
      }
    },
    {
      "cell_type": "code",
      "source": [
        "def iterate_total(value):\n",
        "    # Store Variable\n",
        "    total = 0\n",
        "    # For Loop (Make Value in String bcz Loop doesn't work on Integer Value)\n",
        "    for num in str(value):\n",
        "        # total Variable = Updated total Variable + Iteration Num of Integer\n",
        "        total = total + int(num)\n",
        "    return total\n",
        "\n",
        "\n",
        "# Get User Input with Validation\n",
        "while True:\n",
        "    try:\n",
        "        user_input = int(input(\"Please enter your value: \"))\n",
        "        # Print & Call Function with Given User Input\n",
        "        print(f\"Sum of {user_input} :\", iterate_total(user_input))\n",
        "        break  # Exit Loop if Received Correct input\n",
        "    except ValueError:\n",
        "        # Show Error\n",
        "        print(\"Invalid input! Please enter a valid number (e.g., 1234567890).\")"
      ],
      "metadata": {
        "colab": {
          "base_uri": "https://localhost:8080/"
        },
        "id": "sv6FSlC5Ry27",
        "outputId": "f61ea020-3ec5-497d-ac40-aad6b8627ac7"
      },
      "execution_count": 22,
      "outputs": [
        {
          "output_type": "stream",
          "name": "stdout",
          "text": [
            "Please enter your value: -999\n",
            "Invalid input! Please enter a valid number (e.g., 1234567890).\n",
            "Please enter your value: aa\n",
            "Invalid input! Please enter a valid number (e.g., 1234567890).\n",
            "Please enter your value: 1234\n",
            "Sum of 1234 : 10\n"
          ]
        }
      ]
    },
    {
      "cell_type": "markdown",
      "source": [
        "## ✅ Using Modulus and Division"
      ],
      "metadata": {
        "id": "p3mOUUBvSCvY"
      }
    },
    {
      "cell_type": "code",
      "source": [
        "def mod_div_total(value):\n",
        "    # Store Variable\n",
        "    total = 0\n",
        "    # if user put negative value then convert value to positive\n",
        "    value = abs(value)\n",
        "    # While Loop\n",
        "    while value > 0:\n",
        "        # total Variable = Updated total Variable + value with last digits (reminder by 10)\n",
        "        total = total + value % 10\n",
        "        # remove last digits (value divided by 10)\n",
        "        value = value // 10\n",
        "    return total\n",
        "\n",
        "\n",
        "# Get User Input with Validation\n",
        "while True:\n",
        "    try:\n",
        "        user_input = int(input(\"Please enter your value: \"))\n",
        "        # Print & Call Function with Given User Input\n",
        "        print(f\"Sum of {user_input}:\", mod_div_total(user_input))\n",
        "        break  # Exit Loop if Received Correct input\n",
        "    except ValueError:\n",
        "        # Show Error\n",
        "        print(\"Invalid input! Please enter a valid number (e.g., 1234567890).\")"
      ],
      "metadata": {
        "colab": {
          "base_uri": "https://localhost:8080/"
        },
        "id": "q7_zEnMJU27s",
        "outputId": "35c3befb-c73e-4dfb-ad80-a23924ff7f76"
      },
      "execution_count": 24,
      "outputs": [
        {
          "output_type": "stream",
          "name": "stdout",
          "text": [
            "Please enter your value: 1234\n",
            "Sum of 1234: 10\n"
          ]
        }
      ]
    },
    {
      "cell_type": "markdown",
      "source": [
        "## ✅ Using Recursion Sum"
      ],
      "metadata": {
        "id": "t5Q7N7ZiW0By"
      }
    },
    {
      "cell_type": "code",
      "source": [
        "def recursion_total(value):\n",
        "    # if user put negative value then convert value to positive\n",
        "    value = abs(value)\n",
        "    # if Value is Zero return Value\n",
        "    if value == 0:\n",
        "        return value\n",
        "    else:\n",
        "        # Getting Last Digit\n",
        "        last_digits = value % 10\n",
        "        # Store Rest Digits Except Last\n",
        "        remaining_digits = value // 10\n",
        "        # Return last_digits + Keep Adding Last Digit of Remaining Value\n",
        "        return last_digits + recursion_total(remaining_digits)\n",
        "\n",
        "\n",
        "# Get User Input with Validation\n",
        "while True:\n",
        "    try:\n",
        "        user_input = int(input(\"Please enter your value: \"))\n",
        "        # Print & Call Function with Given User Input\n",
        "        print(f\"Sum of {user_input}:\", recursion_total(user_input))\n",
        "        break  # Exit Loop if Received Correct input\n",
        "    except ValueError:\n",
        "        # Show Error\n",
        "        print(\"Invalid input! Please enter a valid number (e.g., 1234567890).\")"
      ],
      "metadata": {
        "colab": {
          "base_uri": "https://localhost:8080/"
        },
        "id": "8DQFM0IFW3Py",
        "outputId": "f55e2418-04fd-403d-ec3e-28889a275b83"
      },
      "execution_count": 25,
      "outputs": [
        {
          "output_type": "stream",
          "name": "stdout",
          "text": [
            "Please enter your value: 1234\n",
            "Sum of 1234: 10\n"
          ]
        }
      ]
    }
  ]
}
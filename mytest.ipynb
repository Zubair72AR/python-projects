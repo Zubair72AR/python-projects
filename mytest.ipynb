<a href="https://colab.research.google.com/github/Zubair72AR/python-projects/blob/main/homework_projects/00_intro_python/01_add_two_numbers.ipynb" target="_parent"><img src="https://colab.research.google.com/assets/colab-badge.svg" alt="Open In Colab"/></a>


import qrcode


def generate_qr(link):
    if link:
        img = qrcode.make(link)
        img.save("qr_code.png")
        print(f"✅ QR Code generated and saved as 'qr_code.png' for: {link}")
    else:
        print("⚠ Please provide a valid URL!")


qr_link = input("🔗 Enter your URL/Link: ")
generate_qr(qr_link)

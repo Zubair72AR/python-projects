{
  "cells": [
    {
      "cell_type": "markdown",
      "metadata": {
        "id": "view-in-github",
        "colab_type": "text"
      },
      "source": [
        "<a href=\"https://colab.research.google.com/github/Zubair72AR/python-projects/blob/main/homework_projects/00_intro_python/01_add_two_numbers.ipynb\" target=\"_parent\"><img src=\"https://colab.research.google.com/assets/colab-badge.svg\" alt=\"Open In Colab\"/></a>"
      ]
    },
    {
      "cell_type": "code",
      "source": [
        "# Make Function of Sum\n",
        "def sum():\n",
        "    # Get value 01\n",
        "    value1: str = input(\"Enter First Number -> \")\n",
        "    # Convert value 01 to integer type\n",
        "    value1: int = int(value1)\n",
        "    # Get value 02\n",
        "    value2: str = input(\"Enter Second Number -> \")\n",
        "    # Convert value 02 to integer type\n",
        "    value2: int = int(value2)\n",
        "    # Calculate the sum of value 01 and value 02\n",
        "    total: int = value1 + value2\n",
        "    # Print the result\n",
        "    print(f\"The Total of {value1} + {value2} = {total}\")\n",
        "\n",
        "\n",
        "# Runs the function only if this script is executed directly, not when imported.\n",
        "if __name__ == \"__main__\":\n",
        "    # Call the function to start the program\n",
        "    sum()"
      ],
      "metadata": {
        "id": "hJdb9nlbvOYa",
        "outputId": "9854b27a-6343-4e86-ee2e-840b03cc5407",
        "colab": {
          "base_uri": "https://localhost:8080/"
        }
      },
      "execution_count": 1,
      "outputs": [
        {
          "output_type": "stream",
          "name": "stdout",
          "text": [
            "Enter First Number -> 68\n",
            "Enter Second Number -> 323\n",
            "The Total of 68 + 323 = 391\n"
          ]
        }
      ]
    }
  ],
  "metadata": {
    "colab": {
      "name": "Welcome To Colab",
      "provenance": [],
      "include_colab_link": true
    },
    "kernelspec": {
      "display_name": "Python 3",
      "name": "python3"
    }
  },
  "nbformat": 4,
  "nbformat_minor": 0
}
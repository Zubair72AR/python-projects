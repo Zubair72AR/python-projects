{
  "cells": [
    {
      "cell_type": "markdown",
      "metadata": {
        "colab_type": "text",
        "id": "view-in-github"
      },
      "source": [
        "<a href=\"https://colab.research.google.com/github/Zubair72AR/python-projects/blob/main/homework_projects/00_intro_python/01_add_two_numbers.ipynb\" target=\"_parent\"><img src=\"https://colab.research.google.com/assets/colab-badge.svg\" alt=\"Open In Colab\"/></a>"
      ]
    },
    {
      "cell_type": "code",
      "execution_count": 1,
      "metadata": {
        "colab": {
          "base_uri": "https://localhost:8080/"
        },
        "id": "hJdb9nlbvOYa",
        "outputId": "ad956aa5-0fef-4293-f4bc-896b00c5cc6a"
      },
      "outputs": [
        {
          "name": "stdout",
          "output_type": "stream",
          "text": [
            "Enter First Number -> 55\n",
            "Enter Second Number -> 88\n",
            "The Total of 55 + 88 = 143\n"
          ]
        }
      ],
      "source": [
        "def self_Introduction():\n",
        "\n",
        "    # NAME Input\n",
        "    name = ' '.join(input(\"Please enter your name: \").split()).title()\n",
        "\n",
        "    # AGE Input\n",
        "    while True:\n",
        "\n",
        "        # Check if age is entered in the number\n",
        "        try:\n",
        "            age = int(input(\"Please enter your age: \"))\n",
        "\n",
        "            # Check if age is greater than 0\n",
        "            if age > 0:\n",
        "                break\n",
        "            else:\n",
        "                print(\"❌ Age must be greater than 0.\")\n",
        "        except ValueError:\n",
        "            print(\"❌ Please enter valid age.\")\n",
        "\n",
        "    # GENDER Input\n",
        "    while True:\n",
        "        gender = input(\"Please enter your gender boy/girl: \").lower().strip()\n",
        "\n",
        "        # Check if gender is either boy or girl\n",
        "        if gender in [\"boy\", \"girl\"]:\n",
        "            break\n",
        "        else:\n",
        "            print(\"❌ Please enter boy or girl.\")\n",
        "\n",
        "    # LOVE or LIKE Input\n",
        "    loves = input(\"Whom/What do you Love: \").lower().strip()\n",
        "\n",
        "    # HOBBY Input\n",
        "    hobby = input(\"Please enter your hobby: \").lower().strip()\n",
        "\n",
        "    # Gender setting up (his/her or he/she) based on user input GENDER\n",
        "    his_her = \"his\" if gender == \"boy\" else \"her\"\n",
        "    he_she = \"He\" if gender == \"boy\" else \"She\"\n",
        "\n",
        "    # Setting up age (singular or plural) based on user input AGE\n",
        "    year_label = \"year\" if age == 1 else \"years\"\n",
        "\n",
        "    # Printing the self-introduction message with user inputs\n",
        "    print(f\"\\\"Meet {name}, {he_she} is {age} {year_label} old {gender}. Who loves {loves} and enjoys {hobby} in {his_her} free time. {he_she} is always ready for new adventures!\\\" 😊\")\n",
        "\n",
        "\n",
        "# Calling the function\n",
        "self_Introduction()\n"
      ]
    }
  ],
  "metadata": {
    "colab": {
      "include_colab_link": true,
      "name": "Welcome To Colab",
      "provenance": []
    },
    "kernelspec": {
      "display_name": "Python 3",
      "name": "python3"
    }
  },
  "nbformat": 4,
  "nbformat_minor": 0
}

{
  "cells": [
    {
      "cell_type": "code",
      "execution_count": null,
      "metadata": {
        "vscode": {
          "languageId": "plaintext"
        },
        "id": "I0iruFmybXYw"
      },
      "outputs": [],
      "source": [
        "import random\n",
        "\n",
        "\n",
        "def play_game():\n",
        "    # Range of Selection\n",
        "    number_to_guess = random.randrange(1, 10)\n",
        "    # Number of Attempts\n",
        "    attempts = 0\n",
        "\n",
        "    while True:\n",
        "        # Take user input for guess\n",
        "        try:\n",
        "            user_guess = int(input(\"Guess a number between 1 and 10: \"))\n",
        "        # If user put invalid input Show error message\n",
        "        except ValueError:\n",
        "            print(\"Invalid input. Please enter a number.\")\n",
        "            continue\n",
        "        # Increase attempts count\n",
        "        attempts += 1\n",
        "\n",
        "        # If user put Too Low Value\n",
        "        if user_guess < number_to_guess:\n",
        "            print(f\"Attempt No. {attempts}, Too low! Try again.\")\n",
        "        # If user put Too High Value\n",
        "        elif user_guess > number_to_guess:\n",
        "            print(f\"Attempt No. {attempts}, Too high! Try again.\")\n",
        "        # If user put Correct Value\n",
        "        else:\n",
        "            print(\n",
        "                f\"Congratulations! You guessed the correct number in the {attempts} attempt.\")\n",
        "            break\n",
        "\n",
        "\n",
        "# If user Wants to play again\n",
        "while True:\n",
        "    play_game()\n",
        "    again = input(\"Do you want to play again? (yes/no): \").strip().lower()\n",
        "    if again != 'yes':\n",
        "        print(\"Thanks for playing! Goodbye.\")\n",
        "        break\n"
      ]
    }
  ],
  "metadata": {
    "language_info": {
      "name": "python"
    },
    "colab": {
      "provenance": []
    }
  },
  "nbformat": 4,
  "nbformat_minor": 0
}